{
  "cells": [
    {
      "cell_type": "markdown",
      "metadata": {
        "id": "3dc3dzDzkNxM"
      },
      "source": [
        "# Project 1: Placement Prediction\n",
        "Data_Science_Hack"
      ]
    },
    {
      "cell_type": "markdown",
      "metadata": {
        "id": "2USdj0Fcp1PA"
      },
      "source": [
        "---"
      ]
    },
    {
      "cell_type": "markdown",
      "metadata": {
        "id": "NZkuR4JIp122"
      },
      "source": [
        "### Context\n",
        "\n",
        "The probability of the placement depends on various factors like CGPA, Internships, projects, etc. Change in the mindset of the millennial generation also contributes to ups and down in placement as the young generation is much into cloud Nine  than to owe a placement. Predicting the right questions for the placement is important for aspiring engineers in the corporate business. This makes it very important to come up with proper and smart technique to estimate the true prediction of the placement. \n",
        " "
      ]
    },
    {
      "cell_type": "markdown",
      "metadata": {
        "id": "bhlNrfRasTmn"
      },
      "source": [
        "---"
      ]
    },
    {
      "cell_type": "markdown",
      "metadata": {
        "id": "w5k_BnsbAbtD"
      },
      "source": [
        "---"
      ]
    },
    {
      "cell_type": "markdown",
      "metadata": {
        "id": "Kb7u6oKHsYD8"
      },
      "source": [
        "### Problem Statement\n",
        "\n",
        "\n",
        "You are willing to get your placement stats. You are not sure about the placement of yours and want to estimate your placement stats. You are provided with the dataset and need to make a prediction model which will help you to get a good estimate of your placement prediction. "
      ]
    },
    {
      "cell_type": "markdown",
      "metadata": {
        "id": "Ej0iNrOfw5mO"
      },
      "source": [
        "---"
      ]
    },
    {
      "cell_type": "markdown",
      "metadata": {
        "id": "ywFr5pfow8Gc"
      },
      "source": [
        "### Data Description\n",
        "\n",
        "The **placement** dataset contains the prices and other attributes. There are $2967$ rows and $18$ attributes (features) with a target column (Age). \n",
        "\n",
        "Following are the features:  \n",
        "\n",
        "|Column|Description|\n",
        "|---:|\n",
        "Age\t\n",
        "Internships\t\n",
        "CGPA\t\n",
        "HistoryOfBacklogs\t\n",
        "teamWorking\t\n",
        "problemSolvingskills\t\n",
        "techSkillsLevel\t\n",
        "comSkillsLevel\t\n",
        "resumeLevel\t\n",
        "projectsNo\t\n",
        "easyProjects\t\n",
        "mediumProjects\t\n",
        "hardProjects\t\n",
        "advancedProjects\t\n",
        "personalityLevel\t\n",
        "winnerNo\t\n",
        "runnerNo\t\n",
        "participantNo\n",
        "  **Dataset Link:**  https://docs.google.com/spreadsheets/d/e/2PACX-1vSVwkDCMjC3YqMd3-aGNIB5gGrUhguSyWGTt6G5_mBuDZ6UcwsCDPRUyLnTVBtp4l8bksEJIXHj0qWL/pub?output=csv"
      ]
    },
    {
      "cell_type": "markdown",
      "metadata": {
        "id": "m3-VjFOyqdvo"
      },
      "source": [
        "---"
      ]
    },
    {
      "cell_type": "markdown",
      "metadata": {
        "id": "2iZ9tHdX647b"
      },
      "source": [
        "### Things To Do\n",
        "\n",
        "1. Explore the placement dataset by creating the following plots:\n",
        "   - Box plots between each categorical feature and the `Age`.\n",
        "   - Scatter plots between the numerical features and the `Age`.\n",
        "   \n",
        "2. Convert categorical attributes into numerical attributes using feature encoding.\n",
        "\n",
        "3. Build a linear regression model by selecting the most relevant features to predict the Age of houses.\n",
        "\n",
        "4. Evaluate the linear regression model by calculating the parameters such as coefficient of determination, MAE, MSE, RMSE, mean of residuals and by checking for homoscedasticity.\n",
        "\n"
      ]
    },
    {
      "cell_type": "markdown",
      "metadata": {
        "id": "W4fE-t4Rr2CT"
      },
      "source": [
        "---"
      ]
    },
    {
      "cell_type": "markdown",
      "metadata": {
        "id": "e0IW5qmC2Aaa"
      },
      "source": [
        "#### 1. Import Modules and Load Dataset\n",
        "\n",
        "**Dataset Link:** https://docs.google.com/spreadsheets/d/e/2PACX-1vSVwkDCMjC3YqMd3-aGNIB5gGrUhguSyWGTt6G5_mBuDZ6UcwsCDPRUyLnTVBtp4l8bksEJIXHj0qWL/pub?output=csv\n",
        "\n",
        "\n",
        "\n",
        "\n",
        "\n",
        "\n"
      ]
    },
    {
      "cell_type": "code",
      "execution_count": 1,
      "metadata": {
        "colab": {
          "base_uri": "https://localhost:8080/",
          "height": 270
        },
        "id": "4NKi_-YIxTcL",
        "outputId": "224f0878-e3f6-4693-ea03-2dd629aad3b6"
      },
      "outputs": [
        {
          "data": {
            "text/html": [
              "<div>\n",
              "<style scoped>\n",
              "    .dataframe tbody tr th:only-of-type {\n",
              "        vertical-align: middle;\n",
              "    }\n",
              "\n",
              "    .dataframe tbody tr th {\n",
              "        vertical-align: top;\n",
              "    }\n",
              "\n",
              "    .dataframe thead th {\n",
              "        text-align: right;\n",
              "    }\n",
              "</style>\n",
              "<table border=\"1\" class=\"dataframe\">\n",
              "  <thead>\n",
              "    <tr style=\"text-align: right;\">\n",
              "      <th></th>\n",
              "      <th>Age</th>\n",
              "      <th>Internships</th>\n",
              "      <th>CGPA</th>\n",
              "      <th>HistoryOfBacklogs</th>\n",
              "      <th>teamWorking</th>\n",
              "      <th>problemSolvingskills</th>\n",
              "      <th>techSkillsLevel</th>\n",
              "      <th>comSkillsLevel</th>\n",
              "      <th>resumeLevel</th>\n",
              "      <th>easyProjects</th>\n",
              "      <th>mediumProjects</th>\n",
              "      <th>hardProjects</th>\n",
              "      <th>advancedProjects</th>\n",
              "      <th>personalityLevel</th>\n",
              "      <th>winnerNo</th>\n",
              "      <th>runnerNo</th>\n",
              "      <th>participantNo</th>\n",
              "    </tr>\n",
              "  </thead>\n",
              "  <tbody>\n",
              "    <tr>\n",
              "      <th>0</th>\n",
              "      <td>22</td>\n",
              "      <td>1</td>\n",
              "      <td>9.86</td>\n",
              "      <td>0</td>\n",
              "      <td>5</td>\n",
              "      <td>1</td>\n",
              "      <td>7</td>\n",
              "      <td>8</td>\n",
              "      <td>8</td>\n",
              "      <td>2</td>\n",
              "      <td>1</td>\n",
              "      <td>2</td>\n",
              "      <td>1</td>\n",
              "      <td>4</td>\n",
              "      <td>0</td>\n",
              "      <td>1</td>\n",
              "      <td>2</td>\n",
              "    </tr>\n",
              "    <tr>\n",
              "      <th>1</th>\n",
              "      <td>22</td>\n",
              "      <td>0</td>\n",
              "      <td>6.45</td>\n",
              "      <td>0</td>\n",
              "      <td>10</td>\n",
              "      <td>9</td>\n",
              "      <td>0</td>\n",
              "      <td>7</td>\n",
              "      <td>4</td>\n",
              "      <td>4</td>\n",
              "      <td>1</td>\n",
              "      <td>0</td>\n",
              "      <td>0</td>\n",
              "      <td>10</td>\n",
              "      <td>3</td>\n",
              "      <td>3</td>\n",
              "      <td>3</td>\n",
              "    </tr>\n",
              "    <tr>\n",
              "      <th>2</th>\n",
              "      <td>22</td>\n",
              "      <td>0</td>\n",
              "      <td>7.60</td>\n",
              "      <td>0</td>\n",
              "      <td>6</td>\n",
              "      <td>7</td>\n",
              "      <td>7</td>\n",
              "      <td>8</td>\n",
              "      <td>4</td>\n",
              "      <td>4</td>\n",
              "      <td>4</td>\n",
              "      <td>4</td>\n",
              "      <td>2</td>\n",
              "      <td>6</td>\n",
              "      <td>2</td>\n",
              "      <td>2</td>\n",
              "      <td>5</td>\n",
              "    </tr>\n",
              "    <tr>\n",
              "      <th>3</th>\n",
              "      <td>21</td>\n",
              "      <td>1</td>\n",
              "      <td>8.86</td>\n",
              "      <td>0</td>\n",
              "      <td>1</td>\n",
              "      <td>7</td>\n",
              "      <td>3</td>\n",
              "      <td>9</td>\n",
              "      <td>8</td>\n",
              "      <td>1</td>\n",
              "      <td>0</td>\n",
              "      <td>4</td>\n",
              "      <td>4</td>\n",
              "      <td>5</td>\n",
              "      <td>2</td>\n",
              "      <td>2</td>\n",
              "      <td>1</td>\n",
              "    </tr>\n",
              "    <tr>\n",
              "      <th>4</th>\n",
              "      <td>21</td>\n",
              "      <td>2</td>\n",
              "      <td>6.34</td>\n",
              "      <td>0</td>\n",
              "      <td>8</td>\n",
              "      <td>5</td>\n",
              "      <td>0</td>\n",
              "      <td>7</td>\n",
              "      <td>4</td>\n",
              "      <td>2</td>\n",
              "      <td>0</td>\n",
              "      <td>1</td>\n",
              "      <td>4</td>\n",
              "      <td>1</td>\n",
              "      <td>2</td>\n",
              "      <td>4</td>\n",
              "      <td>1</td>\n",
              "    </tr>\n",
              "  </tbody>\n",
              "</table>\n",
              "</div>"
            ],
            "text/plain": [
              "   Age  Internships  CGPA  HistoryOfBacklogs  teamWorking  \\\n",
              "0   22            1  9.86                  0            5   \n",
              "1   22            0  6.45                  0           10   \n",
              "2   22            0  7.60                  0            6   \n",
              "3   21            1  8.86                  0            1   \n",
              "4   21            2  6.34                  0            8   \n",
              "\n",
              "   problemSolvingskills  techSkillsLevel  comSkillsLevel  resumeLevel  \\\n",
              "0                     1                7               8            8   \n",
              "1                     9                0               7            4   \n",
              "2                     7                7               8            4   \n",
              "3                     7                3               9            8   \n",
              "4                     5                0               7            4   \n",
              "\n",
              "   easyProjects  mediumProjects  hardProjects  advancedProjects  \\\n",
              "0             2               1             2                 1   \n",
              "1             4               1             0                 0   \n",
              "2             4               4             4                 2   \n",
              "3             1               0             4                 4   \n",
              "4             2               0             1                 4   \n",
              "\n",
              "   personalityLevel  winnerNo  runnerNo  participantNo  \n",
              "0                 4         0         1              2  \n",
              "1                10         3         3              3  \n",
              "2                 6         2         2              5  \n",
              "3                 5         2         2              1  \n",
              "4                 1         2         4              1  "
            ]
          },
          "execution_count": 1,
          "metadata": {},
          "output_type": "execute_result"
        }
      ],
      "source": [
        "# Import the required modules and load the dataset.\n",
        "import numpy as np\n",
        "import matplotlib.pyplot as plt\n",
        "import pandas as pd\n",
        "import seaborn as sns\n",
        "import warnings\n",
        "warnings.filterwarnings('ignore')\n",
        "df=pd.read_csv('https://docs.google.com/spreadsheets/d/e/2PACX-1vSVwkDCMjC3YqMd3-aGNIB5gGrUhguSyWGTt6G5_mBuDZ6UcwsCDPRUyLnTVBtp4l8bksEJIXHj0qWL/pub?output=csv')\n",
        "df\n",
        "df.head()"
      ]
    },
    {
      "cell_type": "code",
      "execution_count": 2,
      "metadata": {
        "colab": {
          "base_uri": "https://localhost:8080/"
        },
        "id": "8IXJUhvx1Omc",
        "outputId": "8557b09b-b21c-46bc-de8e-de37d47714f9"
      },
      "outputs": [
        {
          "name": "stdout",
          "output_type": "stream",
          "text": [
            "<class 'pandas.core.frame.DataFrame'>\n",
            "RangeIndex: 2966 entries, 0 to 2965\n",
            "Data columns (total 17 columns):\n",
            " #   Column                Non-Null Count  Dtype  \n",
            "---  ------                --------------  -----  \n",
            " 0   Age                   2966 non-null   int64  \n",
            " 1   Internships           2966 non-null   int64  \n",
            " 2   CGPA                  2966 non-null   float64\n",
            " 3   HistoryOfBacklogs     2966 non-null   int64  \n",
            " 4   teamWorking           2966 non-null   int64  \n",
            " 5   problemSolvingskills  2966 non-null   int64  \n",
            " 6   techSkillsLevel       2966 non-null   int64  \n",
            " 7   comSkillsLevel        2966 non-null   int64  \n",
            " 8   resumeLevel           2966 non-null   int64  \n",
            " 9   easyProjects          2966 non-null   int64  \n",
            " 10  mediumProjects        2966 non-null   int64  \n",
            " 11  hardProjects          2966 non-null   int64  \n",
            " 12  advancedProjects      2966 non-null   int64  \n",
            " 13  personalityLevel      2966 non-null   int64  \n",
            " 14  winnerNo              2966 non-null   int64  \n",
            " 15  runnerNo              2966 non-null   int64  \n",
            " 16  participantNo         2966 non-null   int64  \n",
            "dtypes: float64(1), int64(16)\n",
            "memory usage: 394.0 KB\n"
          ]
        }
      ],
      "source": [
        "# Get the information on DataFrame.\n",
        "df.info()"
      ]
    },
    {
      "cell_type": "code",
      "execution_count": 3,
      "metadata": {
        "colab": {
          "base_uri": "https://localhost:8080/"
        },
        "id": "HB5wwgC1fO7Q",
        "outputId": "0c4819f5-089b-440e-ba48-5e056d1035c1"
      },
      "outputs": [
        {
          "data": {
            "text/plain": [
              "Age                     0\n",
              "Internships             0\n",
              "CGPA                    0\n",
              "HistoryOfBacklogs       0\n",
              "teamWorking             0\n",
              "problemSolvingskills    0\n",
              "techSkillsLevel         0\n",
              "comSkillsLevel          0\n",
              "resumeLevel             0\n",
              "easyProjects            0\n",
              "mediumProjects          0\n",
              "hardProjects            0\n",
              "advancedProjects        0\n",
              "personalityLevel        0\n",
              "winnerNo                0\n",
              "runnerNo                0\n",
              "participantNo           0\n",
              "dtype: int64"
            ]
          },
          "execution_count": 3,
          "metadata": {},
          "output_type": "execute_result"
        }
      ],
      "source": [
        "# Check if there are any NULL values.\n",
        "df.isnull().sum()"
      ]
    },
    {
      "cell_type": "code",
      "execution_count": 4,
      "metadata": {
        "colab": {
          "base_uri": "https://localhost:8080/"
        },
        "id": "cW--hwFI7NuH",
        "outputId": "51cf2c04-e6f0-4e8a-82c4-692f2588614e"
      },
      "outputs": [
        {
          "data": {
            "text/plain": [
              "['Internships',\n",
              " 'CGPA',\n",
              " 'HistoryOfBacklogs',\n",
              " 'teamWorking',\n",
              " 'problemSolvingskills',\n",
              " 'techSkillsLevel',\n",
              " 'comSkillsLevel',\n",
              " 'resumeLevel',\n",
              " 'easyProjects',\n",
              " 'mediumProjects',\n",
              " 'hardProjects',\n",
              " 'advancedProjects',\n",
              " 'personalityLevel',\n",
              " 'winnerNo',\n",
              " 'runnerNo',\n",
              " 'participantNo']"
            ]
          },
          "execution_count": 4,
          "metadata": {},
          "output_type": "execute_result"
        }
      ],
      "source": [
        "features = list(df.columns.values)\n",
        "features.remove('Age')\n",
        "features"
      ]
    },
    {
      "cell_type": "markdown",
      "metadata": {
        "id": "zCfhAcHAYvS4"
      },
      "source": [
        "---"
      ]
    },
    {
      "cell_type": "markdown",
      "metadata": {
        "id": "BTMp-43z7FQY"
      },
      "source": [
        "#### 2. Exploratory Data Analysis\n",
        "\n",
        "We need to predict the value of `price` variable, using other variables. Thus, `price` is the target or dependent variable and other columns except `price` are the features or the independent variables. \n",
        "\n",
        "Perform the following tasks:\n",
        "\n",
        "- Create Box plots between each **categorical** variable and the target variable `price` to sense the distribution of values.\n",
        "\n",
        "- Create the Scatter plots between each **numerical** variable and the target variable `price`. Determine which variable(s) shows linear relationship with the target variable `price`. \n",
        "\n",
        "- Create a normal distribution curve for the `price`.\n"
      ]
    },
    {
      "cell_type": "code",
      "execution_count": 5,
      "metadata": {
        "id": "BE095lJ7mTE6"
      },
      "outputs": [],
      "source": [
        "# Check categorical attributes\n",
        "from sklearn.model_selection import train_test_split\n",
        "X=df[features]\n",
        "y=df['Age']\n",
        "X_train,X_test,y_train,y_test=train_test_split(X,y,test_size=0.33,random_state=29)"
      ]
    },
    {
      "cell_type": "code",
      "execution_count": 6,
      "metadata": {
        "colab": {
          "base_uri": "https://localhost:8080/",
          "height": 387
        },
        "id": "eiF5b2D1yKDw",
        "outputId": "d9e9efdc-5a4f-4d0a-ebc9-1d0783509886"
      },
      "outputs": [
        {
          "data": {
            "image/png": "[encoded data removed]",
            "text/plain": [
              "<Figure size 1800x600 with 1 Axes>"
            ]
          },
          "metadata": {},
          "output_type": "display_data"
        }
      ],
      "source": [
        "# Boxplot for 'Age' vs 'techSkillsLevel'\n",
        "plt.style.use(\"dark_background\")\n",
        "plt.figure(figsize=(18, 6))\n",
        "sns.boxplot(x='Age', y='techSkillsLevel', data=df )\n",
        "plt.show()"
      ]
    },
    {
      "cell_type": "code",
      "execution_count": 7,
      "metadata": {
        "colab": {
          "base_uri": "https://localhost:8080/",
          "height": 387
        },
        "id": "weHLdEjnyaE2",
        "outputId": "a9b0a1c2-0845-4ce5-cad4-7eb12c687d13"
      },
      "outputs": [
        {
          "data": {
            "image/png": "[encoded data removed]",
            "text/plain": [
              "<Figure size 1800x600 with 1 Axes>"
            ]
          },
          "metadata": {},
          "output_type": "display_data"
        }
      ],
      "source": [
        "# Boxplot for 'teamWorking' vs 'comSkillsLevel'\n",
        "plt.style.use(\"dark_background\")\n",
        "plt.figure(figsize=(18, 6))\n",
        "sns.boxplot(x='teamWorking', y='comSkillsLevel', data=df )\n",
        "plt.show()\n"
      ]
    },
    {
      "cell_type": "code",
      "execution_count": 8,
      "metadata": {
        "colab": {
          "base_uri": "https://localhost:8080/",
          "height": 387
        },
        "id": "p09SUbbhympd",
        "outputId": "2ed2b050-e1db-4438-c829-cdca79b7064b"
      },
      "outputs": [
        {
          "data": {
            "image/png": "[encoded data removed]",
            "text/plain": [
              "<Figure size 1800x600 with 1 Axes>"
            ]
          },
          "metadata": {},
          "output_type": "display_data"
        }
      ],
      "source": [
        "# Boxplot for 'problemSolvingskills' vs 'techSkillsLevel'\n",
        "plt.style.use(\"dark_background\")\n",
        "plt.figure(figsize=(18, 6))\n",
        "sns.boxplot(x='problemSolvingskills', y='techSkillsLevel', data=df )\n",
        "plt.show()"
      ]
    },
    {
      "cell_type": "code",
      "execution_count": 9,
      "metadata": {
        "colab": {
          "base_uri": "https://localhost:8080/",
          "height": 387
        },
        "id": "kth0hysho8Zc",
        "outputId": "215d5479-27a1-4564-d452-e07f6e2b38de"
      },
      "outputs": [
        {
          "data": {
            "image/png": "[encoded data removed]",
            "text/plain": [
              "<Figure size 1800x600 with 1 Axes>"
            ]
          },
          "metadata": {},
          "output_type": "display_data"
        }
      ],
      "source": [
        "# Boxplot for 'winnerNo' vs 'techSkillsLevel'\n",
        "plt.style.use(\"dark_background\")\n",
        "plt.figure(figsize=(18, 6))\n",
        "sns.boxplot(x='winnerNo', y='techSkillsLevel', data=df )\n",
        "plt.show()"
      ]
    },
    {
      "cell_type": "code",
      "execution_count": 10,
      "metadata": {
        "colab": {
          "base_uri": "https://localhost:8080/",
          "height": 387
        },
        "id": "We94X-Dfo9BZ",
        "outputId": "3d264f2d-2762-4509-fb2b-8d3cc3169e69"
      },
      "outputs": [
        {
          "data": {
            "image/png": "[encoded data removed]",
            "text/plain": [
              "<Figure size 1800x600 with 1 Axes>"
            ]
          },
          "metadata": {},
          "output_type": "display_data"
        }
      ],
      "source": [
        "# Boxplot for 'CGPA' vs 'techSkillsLevel'\n",
        "plt.style.use(\"dark_background\")\n",
        "plt.figure(figsize=(18, 6))\n",
        "sns.boxplot(x='CGPA', y='techSkillsLevel', data=df )\n",
        "plt.show()\n"
      ]
    },
    {
      "cell_type": "code",
      "execution_count": 11,
      "metadata": {
        "colab": {
          "base_uri": "https://localhost:8080/",
          "height": 387
        },
        "id": "LJJOp4AV9X2n",
        "outputId": "c96163fb-3198-445a-a4e0-af5667994cf5"
      },
      "outputs": [
        {
          "ename": "KeyboardInterrupt",
          "evalue": "",
          "output_type": "error",
          "traceback": [
            "\u001b[1;31m---------------------------------------------------------------------------\u001b[0m",
            "\u001b[1;31mKeyboardInterrupt\u001b[0m                         Traceback (most recent call last)",
            "\u001b[1;32md:\\Programs\\Data_Hack_2022_Placement_Predictor\\PLACEMENT_MODEL_EVALUATION__Project_DataSciHack_v1.ipynb Cell 25\u001b[0m in \u001b[0;36m<cell line: 5>\u001b[1;34m()\u001b[0m\n\u001b[0;32m      <a href='vscode-notebook-cell:/d%3A/Programs/Data_Hack_2022_Placement_Predictor/PLACEMENT_MODEL_EVALUATION__Project_DataSciHack_v1.ipynb#X33sZmlsZQ%3D%3D?line=2'>3</a>\u001b[0m plt\u001b[39m.\u001b[39mfigure(figsize\u001b[39m=\u001b[39m(\u001b[39m18\u001b[39m, \u001b[39m6\u001b[39m))\n\u001b[0;32m      <a href='vscode-notebook-cell:/d%3A/Programs/Data_Hack_2022_Placement_Predictor/PLACEMENT_MODEL_EVALUATION__Project_DataSciHack_v1.ipynb#X33sZmlsZQ%3D%3D?line=3'>4</a>\u001b[0m sns\u001b[39m.\u001b[39mboxplot(x\u001b[39m=\u001b[39m\u001b[39m'\u001b[39m\u001b[39mCGPA\u001b[39m\u001b[39m'\u001b[39m, y\u001b[39m=\u001b[39m\u001b[39m'\u001b[39m\u001b[39mproblemSolvingskills\u001b[39m\u001b[39m'\u001b[39m, data\u001b[39m=\u001b[39mdf )\n\u001b[1;32m----> <a href='vscode-notebook-cell:/d%3A/Programs/Data_Hack_2022_Placement_Predictor/PLACEMENT_MODEL_EVALUATION__Project_DataSciHack_v1.ipynb#X33sZmlsZQ%3D%3D?line=4'>5</a>\u001b[0m plt\u001b[39m.\u001b[39;49mshow()\n",
            "File \u001b[1;32mc:\\Python\\lib\\site-packages\\matplotlib\\pyplot.py:387\u001b[0m, in \u001b[0;36mshow\u001b[1;34m(*args, **kwargs)\u001b[0m\n\u001b[0;32m    343\u001b[0m \u001b[39m\"\"\"\u001b[39;00m\n\u001b[0;32m    344\u001b[0m \u001b[39mDisplay all open figures.\u001b[39;00m\n\u001b[0;32m    345\u001b[0m \n\u001b[1;32m   (...)\u001b[0m\n\u001b[0;32m    384\u001b[0m \u001b[39mexplicitly there.\u001b[39;00m\n\u001b[0;32m    385\u001b[0m \u001b[39m\"\"\"\u001b[39;00m\n\u001b[0;32m    386\u001b[0m _warn_if_gui_out_of_main_thread()\n\u001b[1;32m--> 387\u001b[0m \u001b[39mreturn\u001b[39;00m _get_backend_mod()\u001b[39m.\u001b[39mshow(\u001b[39m*\u001b[39margs, \u001b[39m*\u001b[39m\u001b[39m*\u001b[39mkwargs)\n",
            "File \u001b[1;32mc:\\Python\\lib\\site-packages\\matplotlib_inline\\backend_inline.py:90\u001b[0m, in \u001b[0;36mshow\u001b[1;34m(close, block)\u001b[0m\n\u001b[0;32m     88\u001b[0m \u001b[39mtry\u001b[39;00m:\n\u001b[0;32m     89\u001b[0m     \u001b[39mfor\u001b[39;00m figure_manager \u001b[39min\u001b[39;00m Gcf\u001b[39m.\u001b[39mget_all_fig_managers():\n\u001b[1;32m---> 90\u001b[0m         display(\n\u001b[0;32m     91\u001b[0m             figure_manager\u001b[39m.\u001b[39;49mcanvas\u001b[39m.\u001b[39;49mfigure,\n\u001b[0;32m     92\u001b[0m             metadata\u001b[39m=\u001b[39;49m_fetch_figure_metadata(figure_manager\u001b[39m.\u001b[39;49mcanvas\u001b[39m.\u001b[39;49mfigure)\n\u001b[0;32m     93\u001b[0m         )\n\u001b[0;32m     94\u001b[0m \u001b[39mfinally\u001b[39;00m:\n\u001b[0;32m     95\u001b[0m     show\u001b[39m.\u001b[39m_to_draw \u001b[39m=\u001b[39m []\n",
            "File \u001b[1;32mc:\\Python\\lib\\site-packages\\IPython\\core\\display_functions.py:298\u001b[0m, in \u001b[0;36mdisplay\u001b[1;34m(include, exclude, metadata, transient, display_id, raw, clear, *objs, **kwargs)\u001b[0m\n\u001b[0;32m    296\u001b[0m     publish_display_data(data\u001b[39m=\u001b[39mobj, metadata\u001b[39m=\u001b[39mmetadata, \u001b[39m*\u001b[39m\u001b[39m*\u001b[39mkwargs)\n\u001b[0;32m    297\u001b[0m \u001b[39melse\u001b[39;00m:\n\u001b[1;32m--> 298\u001b[0m     format_dict, md_dict \u001b[39m=\u001b[39m \u001b[39mformat\u001b[39;49m(obj, include\u001b[39m=\u001b[39;49minclude, exclude\u001b[39m=\u001b[39;49mexclude)\n\u001b[0;32m    299\u001b[0m     \u001b[39mif\u001b[39;00m \u001b[39mnot\u001b[39;00m format_dict:\n\u001b[0;32m    300\u001b[0m         \u001b[39m# nothing to display (e.g. _ipython_display_ took over)\u001b[39;00m\n\u001b[0;32m    301\u001b[0m         \u001b[39mcontinue\u001b[39;00m\n",
            "File \u001b[1;32mc:\\Python\\lib\\site-packages\\IPython\\core\\formatters.py:178\u001b[0m, in \u001b[0;36mDisplayFormatter.format\u001b[1;34m(self, obj, include, exclude)\u001b[0m\n\u001b[0;32m    176\u001b[0m md \u001b[39m=\u001b[39m \u001b[39mNone\u001b[39;00m\n\u001b[0;32m    177\u001b[0m \u001b[39mtry\u001b[39;00m:\n\u001b[1;32m--> 178\u001b[0m     data \u001b[39m=\u001b[39m formatter(obj)\n\u001b[0;32m    179\u001b[0m \u001b[39mexcept\u001b[39;00m:\n\u001b[0;32m    180\u001b[0m     \u001b[39m# FIXME: log the exception\u001b[39;00m\n\u001b[0;32m    181\u001b[0m     \u001b[39mraise\u001b[39;00m\n",
            "File \u001b[1;32mc:\\Python\\lib\\site-packages\\decorator.py:232\u001b[0m, in \u001b[0;36mdecorate.<locals>.fun\u001b[1;34m(*args, **kw)\u001b[0m\n\u001b[0;32m    230\u001b[0m \u001b[39mif\u001b[39;00m \u001b[39mnot\u001b[39;00m kwsyntax:\n\u001b[0;32m    231\u001b[0m     args, kw \u001b[39m=\u001b[39m fix(args, kw, sig)\n\u001b[1;32m--> 232\u001b[0m \u001b[39mreturn\u001b[39;00m caller(func, \u001b[39m*\u001b[39m(extras \u001b[39m+\u001b[39m args), \u001b[39m*\u001b[39m\u001b[39m*\u001b[39mkw)\n",
            "File \u001b[1;32mc:\\Python\\lib\\site-packages\\IPython\\core\\formatters.py:222\u001b[0m, in \u001b[0;36mcatch_format_error\u001b[1;34m(method, self, *args, **kwargs)\u001b[0m\n\u001b[0;32m    220\u001b[0m \u001b[39m\"\"\"show traceback on failed format call\"\"\"\u001b[39;00m\n\u001b[0;32m    221\u001b[0m \u001b[39mtry\u001b[39;00m:\n\u001b[1;32m--> 222\u001b[0m     r \u001b[39m=\u001b[39m method(\u001b[39mself\u001b[39m, \u001b[39m*\u001b[39margs, \u001b[39m*\u001b[39m\u001b[39m*\u001b[39mkwargs)\n\u001b[0;32m    223\u001b[0m \u001b[39mexcept\u001b[39;00m \u001b[39mNotImplementedError\u001b[39;00m:\n\u001b[0;32m    224\u001b[0m     \u001b[39m# don't warn on NotImplementedErrors\u001b[39;00m\n\u001b[0;32m    225\u001b[0m     \u001b[39mreturn\u001b[39;00m \u001b[39mself\u001b[39m\u001b[39m.\u001b[39m_check_return(\u001b[39mNone\u001b[39;00m, args[\u001b[39m0\u001b[39m])\n",
            "File \u001b[1;32mc:\\Python\\lib\\site-packages\\IPython\\core\\formatters.py:339\u001b[0m, in \u001b[0;36mBaseFormatter.__call__\u001b[1;34m(self, obj)\u001b[0m\n\u001b[0;32m    337\u001b[0m     \u001b[39mpass\u001b[39;00m\n\u001b[0;32m    338\u001b[0m \u001b[39melse\u001b[39;00m:\n\u001b[1;32m--> 339\u001b[0m     \u001b[39mreturn\u001b[39;00m printer(obj)\n\u001b[0;32m    340\u001b[0m \u001b[39m# Finally look for special method names\u001b[39;00m\n\u001b[0;32m    341\u001b[0m method \u001b[39m=\u001b[39m get_real_method(obj, \u001b[39mself\u001b[39m\u001b[39m.\u001b[39mprint_method)\n",
            "File \u001b[1;32mc:\\Python\\lib\\site-packages\\IPython\\core\\pylabtools.py:151\u001b[0m, in \u001b[0;36mprint_figure\u001b[1;34m(fig, fmt, bbox_inches, base64, **kwargs)\u001b[0m\n\u001b[0;32m    148\u001b[0m     \u001b[39mfrom\u001b[39;00m \u001b[39mmatplotlib\u001b[39;00m\u001b[39m.\u001b[39;00m\u001b[39mbackend_bases\u001b[39;00m \u001b[39mimport\u001b[39;00m FigureCanvasBase\n\u001b[0;32m    149\u001b[0m     FigureCanvasBase(fig)\n\u001b[1;32m--> 151\u001b[0m fig\u001b[39m.\u001b[39mcanvas\u001b[39m.\u001b[39mprint_figure(bytes_io, \u001b[39m*\u001b[39m\u001b[39m*\u001b[39mkw)\n\u001b[0;32m    152\u001b[0m data \u001b[39m=\u001b[39m bytes_io\u001b[39m.\u001b[39mgetvalue()\n\u001b[0;32m    153\u001b[0m \u001b[39mif\u001b[39;00m fmt \u001b[39m==\u001b[39m \u001b[39m'\u001b[39m\u001b[39msvg\u001b[39m\u001b[39m'\u001b[39m:\n",
            "File \u001b[1;32mc:\\Python\\lib\\site-packages\\matplotlib\\backend_bases.py:2299\u001b[0m, in \u001b[0;36mFigureCanvasBase.print_figure\u001b[1;34m(self, filename, dpi, facecolor, edgecolor, orientation, format, bbox_inches, pad_inches, bbox_extra_artists, backend, **kwargs)\u001b[0m\n\u001b[0;32m   2297\u001b[0m \u001b[39mif\u001b[39;00m bbox_inches:\n\u001b[0;32m   2298\u001b[0m     \u001b[39mif\u001b[39;00m bbox_inches \u001b[39m==\u001b[39m \u001b[39m\"\u001b[39m\u001b[39mtight\u001b[39m\u001b[39m\"\u001b[39m:\n\u001b[1;32m-> 2299\u001b[0m         bbox_inches \u001b[39m=\u001b[39m \u001b[39mself\u001b[39;49m\u001b[39m.\u001b[39;49mfigure\u001b[39m.\u001b[39;49mget_tightbbox(\n\u001b[0;32m   2300\u001b[0m             renderer, bbox_extra_artists\u001b[39m=\u001b[39;49mbbox_extra_artists)\n\u001b[0;32m   2301\u001b[0m         \u001b[39mif\u001b[39;00m pad_inches \u001b[39mis\u001b[39;00m \u001b[39mNone\u001b[39;00m:\n\u001b[0;32m   2302\u001b[0m             pad_inches \u001b[39m=\u001b[39m rcParams[\u001b[39m'\u001b[39m\u001b[39msavefig.pad_inches\u001b[39m\u001b[39m'\u001b[39m]\n",
            "File \u001b[1;32mc:\\Python\\lib\\site-packages\\matplotlib\\figure.py:1693\u001b[0m, in \u001b[0;36mFigureBase.get_tightbbox\u001b[1;34m(self, renderer, bbox_extra_artists)\u001b[0m\n\u001b[0;32m   1689\u001b[0m \u001b[39mif\u001b[39;00m ax\u001b[39m.\u001b[39mget_visible():\n\u001b[0;32m   1690\u001b[0m     \u001b[39m# some axes don't take the bbox_extra_artists kwarg so we\u001b[39;00m\n\u001b[0;32m   1691\u001b[0m     \u001b[39m# need this conditional....\u001b[39;00m\n\u001b[0;32m   1692\u001b[0m     \u001b[39mtry\u001b[39;00m:\n\u001b[1;32m-> 1693\u001b[0m         bbox \u001b[39m=\u001b[39m ax\u001b[39m.\u001b[39;49mget_tightbbox(\n\u001b[0;32m   1694\u001b[0m             renderer, bbox_extra_artists\u001b[39m=\u001b[39;49mbbox_extra_artists)\n\u001b[0;32m   1695\u001b[0m     \u001b[39mexcept\u001b[39;00m \u001b[39mTypeError\u001b[39;00m:\n\u001b[0;32m   1696\u001b[0m         bbox \u001b[39m=\u001b[39m ax\u001b[39m.\u001b[39mget_tightbbox(renderer)\n",
            "File \u001b[1;32mc:\\Python\\lib\\site-packages\\matplotlib\\axes\\_base.py:4628\u001b[0m, in \u001b[0;36m_AxesBase.get_tightbbox\u001b[1;34m(self, renderer, call_axes_locator, bbox_extra_artists, for_layout_only)\u001b[0m\n\u001b[0;32m   4626\u001b[0m \u001b[39mif\u001b[39;00m \u001b[39mself\u001b[39m\u001b[39m.\u001b[39mxaxis\u001b[39m.\u001b[39mget_visible():\n\u001b[0;32m   4627\u001b[0m     \u001b[39mtry\u001b[39;00m:\n\u001b[1;32m-> 4628\u001b[0m         bb_xaxis \u001b[39m=\u001b[39m \u001b[39mself\u001b[39;49m\u001b[39m.\u001b[39;49mxaxis\u001b[39m.\u001b[39;49mget_tightbbox(\n\u001b[0;32m   4629\u001b[0m             renderer, for_layout_only\u001b[39m=\u001b[39;49mfor_layout_only)\n\u001b[0;32m   4630\u001b[0m     \u001b[39mexcept\u001b[39;00m \u001b[39mTypeError\u001b[39;00m:\n\u001b[0;32m   4631\u001b[0m         \u001b[39m# in case downstream library has redefined axis:\u001b[39;00m\n\u001b[0;32m   4632\u001b[0m         bb_xaxis \u001b[39m=\u001b[39m \u001b[39mself\u001b[39m\u001b[39m.\u001b[39mxaxis\u001b[39m.\u001b[39mget_tightbbox(renderer)\n",
            "File \u001b[1;32mc:\\Python\\lib\\site-packages\\matplotlib\\axis.py:1105\u001b[0m, in \u001b[0;36mAxis.get_tightbbox\u001b[1;34m(self, renderer, for_layout_only)\u001b[0m\n\u001b[0;32m   1101\u001b[0m     \u001b[39mreturn\u001b[39;00m\n\u001b[0;32m   1103\u001b[0m ticks_to_draw \u001b[39m=\u001b[39m \u001b[39mself\u001b[39m\u001b[39m.\u001b[39m_update_ticks()\n\u001b[1;32m-> 1105\u001b[0m \u001b[39mself\u001b[39;49m\u001b[39m.\u001b[39;49m_update_label_position(renderer)\n\u001b[0;32m   1107\u001b[0m \u001b[39m# go back to just this axis's tick labels\u001b[39;00m\n\u001b[0;32m   1108\u001b[0m ticklabelBoxes, ticklabelBoxes2 \u001b[39m=\u001b[39m \u001b[39mself\u001b[39m\u001b[39m.\u001b[39m_get_tick_bboxes(\n\u001b[0;32m   1109\u001b[0m             ticks_to_draw, renderer)\n",
            "File \u001b[1;32mc:\\Python\\lib\\site-packages\\matplotlib\\axis.py:2083\u001b[0m, in \u001b[0;36mXAxis._update_label_position\u001b[1;34m(self, renderer)\u001b[0m\n\u001b[0;32m   2079\u001b[0m     \u001b[39mreturn\u001b[39;00m\n\u001b[0;32m   2081\u001b[0m \u001b[39m# get bounding boxes for this axis and any siblings\u001b[39;00m\n\u001b[0;32m   2082\u001b[0m \u001b[39m# that have been set by `fig.align_xlabels()`\u001b[39;00m\n\u001b[1;32m-> 2083\u001b[0m bboxes, bboxes2 \u001b[39m=\u001b[39m \u001b[39mself\u001b[39;49m\u001b[39m.\u001b[39;49m_get_tick_boxes_siblings(renderer\u001b[39m=\u001b[39;49mrenderer)\n\u001b[0;32m   2085\u001b[0m x, y \u001b[39m=\u001b[39m \u001b[39mself\u001b[39m\u001b[39m.\u001b[39mlabel\u001b[39m.\u001b[39mget_position()\n\u001b[0;32m   2086\u001b[0m \u001b[39mif\u001b[39;00m \u001b[39mself\u001b[39m\u001b[39m.\u001b[39mlabel_position \u001b[39m==\u001b[39m \u001b[39m'\u001b[39m\u001b[39mbottom\u001b[39m\u001b[39m'\u001b[39m:\n",
            "File \u001b[1;32mc:\\Python\\lib\\site-packages\\matplotlib\\axis.py:1880\u001b[0m, in \u001b[0;36mAxis._get_tick_boxes_siblings\u001b[1;34m(self, renderer)\u001b[0m\n\u001b[0;32m   1878\u001b[0m \u001b[39mfor\u001b[39;00m ax \u001b[39min\u001b[39;00m grouper\u001b[39m.\u001b[39mget_siblings(\u001b[39mself\u001b[39m\u001b[39m.\u001b[39maxes):\n\u001b[0;32m   1879\u001b[0m     axis \u001b[39m=\u001b[39m \u001b[39mgetattr\u001b[39m(ax, \u001b[39mf\u001b[39m\u001b[39m\"\u001b[39m\u001b[39m{\u001b[39;00maxis_name\u001b[39m}\u001b[39;00m\u001b[39maxis\u001b[39m\u001b[39m\"\u001b[39m)\n\u001b[1;32m-> 1880\u001b[0m     ticks_to_draw \u001b[39m=\u001b[39m axis\u001b[39m.\u001b[39;49m_update_ticks()\n\u001b[0;32m   1881\u001b[0m     tlb, tlb2 \u001b[39m=\u001b[39m axis\u001b[39m.\u001b[39m_get_tick_bboxes(ticks_to_draw, renderer)\n\u001b[0;32m   1882\u001b[0m     bboxes\u001b[39m.\u001b[39mextend(tlb)\n",
            "File \u001b[1;32mc:\\Python\\lib\\site-packages\\matplotlib\\axis.py:1051\u001b[0m, in \u001b[0;36mAxis._update_ticks\u001b[1;34m(self)\u001b[0m\n\u001b[0;32m   1049\u001b[0m \u001b[39mfor\u001b[39;00m tick, loc, label \u001b[39min\u001b[39;00m \u001b[39mzip\u001b[39m(major_ticks, major_locs, major_labels):\n\u001b[0;32m   1050\u001b[0m     tick\u001b[39m.\u001b[39mupdate_position(loc)\n\u001b[1;32m-> 1051\u001b[0m     tick\u001b[39m.\u001b[39;49mset_label1(label)\n\u001b[0;32m   1052\u001b[0m     tick\u001b[39m.\u001b[39mset_label2(label)\n\u001b[0;32m   1053\u001b[0m minor_locs \u001b[39m=\u001b[39m \u001b[39mself\u001b[39m\u001b[39m.\u001b[39mget_minorticklocs()\n",
            "File \u001b[1;32mc:\\Python\\lib\\site-packages\\matplotlib\\axis.py:311\u001b[0m, in \u001b[0;36mTick.set_label1\u001b[1;34m(self, s)\u001b[0m\n\u001b[0;32m    303\u001b[0m \u001b[39mdef\u001b[39;00m \u001b[39mset_label1\u001b[39m(\u001b[39mself\u001b[39m, s):\n\u001b[0;32m    304\u001b[0m     \u001b[39m\"\"\"\u001b[39;00m\n\u001b[0;32m    305\u001b[0m \u001b[39m    Set the label1 text.\u001b[39;00m\n\u001b[0;32m    306\u001b[0m \n\u001b[1;32m   (...)\u001b[0m\n\u001b[0;32m    309\u001b[0m \u001b[39m    s : str\u001b[39;00m\n\u001b[0;32m    310\u001b[0m \u001b[39m    \"\"\"\u001b[39;00m\n\u001b[1;32m--> 311\u001b[0m     \u001b[39mself\u001b[39;49m\u001b[39m.\u001b[39;49mlabel1\u001b[39m.\u001b[39;49mset_text(s)\n\u001b[0;32m    312\u001b[0m     \u001b[39mself\u001b[39m\u001b[39m.\u001b[39mstale \u001b[39m=\u001b[39m \u001b[39mTrue\u001b[39;00m\n",
            "File \u001b[1;32mc:\\Python\\lib\\site-packages\\matplotlib\\text.py:1225\u001b[0m, in \u001b[0;36mText.set_text\u001b[1;34m(self, s)\u001b[0m\n\u001b[0;32m   1223\u001b[0m \u001b[39mif\u001b[39;00m s \u001b[39m!=\u001b[39m \u001b[39mself\u001b[39m\u001b[39m.\u001b[39m_text:\n\u001b[0;32m   1224\u001b[0m     \u001b[39mself\u001b[39m\u001b[39m.\u001b[39m_text \u001b[39m=\u001b[39m \u001b[39mstr\u001b[39m(s)\n\u001b[1;32m-> 1225\u001b[0m     \u001b[39mself\u001b[39;49m\u001b[39m.\u001b[39;49mstale \u001b[39m=\u001b[39m \u001b[39mTrue\u001b[39;00m\n",
            "File \u001b[1;32mc:\\Python\\lib\\site-packages\\matplotlib\\artist.py:291\u001b[0m, in \u001b[0;36mArtist.stale\u001b[1;34m(self, val)\u001b[0m\n\u001b[0;32m    285\u001b[0m     \u001b[39m\"\"\"\u001b[39;00m\n\u001b[0;32m    286\u001b[0m \u001b[39m    Whether the artist is 'stale' and needs to be re-drawn for the output\u001b[39;00m\n\u001b[0;32m    287\u001b[0m \u001b[39m    to match the internal state of the artist.\u001b[39;00m\n\u001b[0;32m    288\u001b[0m \u001b[39m    \"\"\"\u001b[39;00m\n\u001b[0;32m    289\u001b[0m     \u001b[39mreturn\u001b[39;00m \u001b[39mself\u001b[39m\u001b[39m.\u001b[39m_stale\n\u001b[1;32m--> 291\u001b[0m \u001b[39m@stale\u001b[39m\u001b[39m.\u001b[39msetter\n\u001b[0;32m    292\u001b[0m \u001b[39mdef\u001b[39;00m \u001b[39mstale\u001b[39m(\u001b[39mself\u001b[39m, val):\n\u001b[0;32m    293\u001b[0m     \u001b[39mself\u001b[39m\u001b[39m.\u001b[39m_stale \u001b[39m=\u001b[39m val\n\u001b[0;32m    295\u001b[0m     \u001b[39m# if the artist is animated it does not take normal part in the\u001b[39;00m\n\u001b[0;32m    296\u001b[0m     \u001b[39m# draw stack and is not expected to be drawn as part of the normal\u001b[39;00m\n\u001b[0;32m    297\u001b[0m     \u001b[39m# draw loop (when not saving) so do not propagate this change\u001b[39;00m\n",
            "\u001b[1;31mKeyboardInterrupt\u001b[0m: "
          ]
        }
      ],
      "source": [
        "# Boxplot for 'CGPA' vs 'problemSolvingskills'\n",
        "plt.style.use(\"dark_background\")\n",
        "plt.figure(figsize=(18, 6))\n",
        "sns.boxplot(x='CGPA', y='problemSolvingskills', data=df )\n",
        "plt.show()\n"
      ]
    },
    {
      "cell_type": "code",
      "execution_count": null,
      "metadata": {
        "colab": {
          "base_uri": "https://localhost:8080/",
          "height": 387
        },
        "id": "nfa6bSKIo98Y",
        "outputId": "85252cd0-5b8a-4fb5-b499-33eb818e90e7"
      },
      "outputs": [],
      "source": [
        "# Boxplot for 'advancedProjects' vs 'techSkillsLevel'\n",
        "plt.style.use(\"dark_background\")\n",
        "plt.figure(figsize=(18, 6))\n",
        "sns.boxplot(x='advancedProjects', y='techSkillsLevel', data=df )\n",
        "plt.show()\n"
      ]
    },
    {
      "cell_type": "code",
      "execution_count": null,
      "metadata": {
        "colab": {
          "base_uri": "https://localhost:8080/",
          "height": 387
        },
        "id": "0FyErIc59jTv",
        "outputId": "39d2be66-0de5-44d3-a918-9316e61c9961"
      },
      "outputs": [],
      "source": [
        "# Boxplot for 'problemSolvingskills' vs 'hardProjects'\n",
        "plt.style.use(\"dark_background\")\n",
        "plt.figure(figsize=(18, 6))\n",
        "sns.boxplot(x='problemSolvingskills', y='hardProjects', data=df )\n",
        "plt.show()"
      ]
    },
    {
      "cell_type": "code",
      "execution_count": null,
      "metadata": {
        "colab": {
          "base_uri": "https://localhost:8080/",
          "height": 387
        },
        "id": "d1OlbcvXjy4s",
        "outputId": "0da75b99-fa53-4457-8684-53e2a7807402"
      },
      "outputs": [],
      "source": [
        "# Boxplot for 'resumeLevel' vs 'techSkillsLevel'\n",
        "plt.style.use(\"dark_background\")\n",
        "plt.figure(figsize=(18, 6))\n",
        "sns.boxplot(x='resumeLevel', y='techSkillsLevel', data=df )\n",
        "plt.show()"
      ]
    },
    {
      "cell_type": "code",
      "execution_count": null,
      "metadata": {
        "colab": {
          "base_uri": "https://localhost:8080/",
          "height": 387
        },
        "id": "dNIKp5Dv6xmb",
        "outputId": "40b12ec7-b451-42f0-f85f-d9ff185c09d7"
      },
      "outputs": [],
      "source": [
        "# Boxplot for 'techSkillsLevel' vs 'participantNo'\n",
        "plt.style.use(\"dark_background\")\n",
        "plt.figure(figsize=(18, 6))\n",
        "sns.boxplot(x='techSkillsLevel', y='participantNo', data=df )\n",
        "plt.show()"
      ]
    },
    {
      "cell_type": "code",
      "execution_count": null,
      "metadata": {
        "colab": {
          "base_uri": "https://localhost:8080/",
          "height": 387
        },
        "id": "dvEIW9Mj7mZu",
        "outputId": "a5830246-aed7-4ace-c5de-b49e7aa1b797"
      },
      "outputs": [],
      "source": [
        "# Boxplot for 'techSkillsLevel' vs 'runnerNo'\n",
        "plt.style.use(\"dark_background\")\n",
        "plt.figure(figsize=(18, 6))\n",
        "sns.boxplot(x='techSkillsLevel', y='runnerNo', data=df )\n",
        "plt.show()"
      ]
    },
    {
      "cell_type": "code",
      "execution_count": null,
      "metadata": {
        "colab": {
          "base_uri": "https://localhost:8080/",
          "height": 387
        },
        "id": "vSJQQM5972IX",
        "outputId": "782d6249-ae51-407a-b613-00d274155a51"
      },
      "outputs": [],
      "source": [
        "# Boxplot for 'advancedProjects' vs 'winnerNo'\n",
        "plt.style.use(\"dark_background\")\n",
        "plt.figure(figsize=(18, 6))\n",
        "sns.boxplot(x='advancedProjects', y='winnerNo', data=df )\n",
        "plt.show()\n"
      ]
    },
    {
      "cell_type": "code",
      "execution_count": null,
      "metadata": {
        "colab": {
          "base_uri": "https://localhost:8080/",
          "height": 387
        },
        "id": "Ug7DUbCU9BdX",
        "outputId": "199ae2d4-a8fa-428b-f875-d7c26feaaeec"
      },
      "outputs": [],
      "source": [
        "# Boxplot for 'advancedProjects' vs 'runnerNo'\n",
        "plt.style.use(\"dark_background\")\n",
        "plt.figure(figsize=(18, 6))\n",
        "sns.boxplot(x='advancedProjects', y='runnerNo', data=df )\n",
        "plt.show()"
      ]
    },
    {
      "cell_type": "code",
      "execution_count": null,
      "metadata": {
        "colab": {
          "base_uri": "https://localhost:8080/",
          "height": 387
        },
        "id": "cWFWSxDJ8Hel",
        "outputId": "22652605-6aa2-4944-9238-fbff63e737cf"
      },
      "outputs": [],
      "source": [
        "# Boxplot for 'techSkillsLevel' vs 'winnerNo'\n",
        "plt.style.use(\"dark_background\")\n",
        "plt.figure(figsize=(18, 6))\n",
        "sns.boxplot(x='techSkillsLevel', y='winnerNo', data=df )\n",
        "plt.show()\n"
      ]
    },
    {
      "cell_type": "code",
      "execution_count": null,
      "metadata": {
        "colab": {
          "base_uri": "https://localhost:8080/",
          "height": 371
        },
        "id": "pnJ_Yv9MzSn8",
        "outputId": "c88c8a7d-5efb-4086-9af8-9fe42b4bea32"
      },
      "outputs": [],
      "source": [
        "#  scatter plot with 'mediumProjects' on X-axis and 'techSkillsLevel' on Y-axis\n",
        "plt.figure(figsize=(18, 6))\n",
        "plt.scatter(x='mediumProjects', y='techSkillsLevel', data=df )\n",
        "plt.show()\n"
      ]
    },
    {
      "cell_type": "code",
      "execution_count": null,
      "metadata": {
        "colab": {
          "base_uri": "https://localhost:8080/",
          "height": 371
        },
        "id": "rIrt8gxE6Knp",
        "outputId": "e50aa5a1-419b-4048-b793-806dc2937873"
      },
      "outputs": [],
      "source": [
        "#scatter plot with 'advancedProjects' on X-axis and 'winnerNo' on Y-axis\n",
        "plt.figure(figsize=(18, 6))\n",
        "plt.scatter(x='advancedProjects', y='winnerNo', data=df )\n",
        "plt.show()"
      ]
    },
    {
      "cell_type": "code",
      "execution_count": null,
      "metadata": {
        "colab": {
          "base_uri": "https://localhost:8080/",
          "height": 371
        },
        "id": "is7gd_Z1p4y7",
        "outputId": "a621163e-d258-4f98-9e87-0172679574de"
      },
      "outputs": [],
      "source": [
        "#  scatter plot with 'Age' on X-axis and 'personalityLevel' on Y-axis\n",
        "plt.figure(figsize=(18, 6))\n",
        "plt.scatter(x='Age', y='personalityLevel', data=df )\n",
        "plt.show()"
      ]
    },
    {
      "cell_type": "code",
      "execution_count": null,
      "metadata": {
        "colab": {
          "base_uri": "https://localhost:8080/",
          "height": 371
        },
        "id": "2nawvemNp5jO",
        "outputId": "9cbb3065-18c1-4c21-e1bb-6730ccb08785"
      },
      "outputs": [],
      "source": [
        "#  scatter plot with 'easyProjects' on X-axis and 'Internships' on Y-axis\n",
        "plt.figure(figsize=(18, 6))\n",
        "plt.scatter(x='easyProjects', y='Internships', data=df )\n",
        "plt.show()"
      ]
    },
    {
      "cell_type": "code",
      "execution_count": null,
      "metadata": {
        "colab": {
          "base_uri": "https://localhost:8080/",
          "height": 371
        },
        "id": "PDfLIRf0p6b1",
        "outputId": "1814451d-e5c4-45d5-9da4-f52ce4b35030"
      },
      "outputs": [],
      "source": [
        "# Create scatter plot with 'CGPA' on X-axis and 'HistoryOfBacklogs' on Y-axis\n",
        "plt.figure(figsize=(18, 6))\n",
        "plt.scatter(x='CGPA', y='HistoryOfBacklogs', data=df )\n",
        "plt.show()"
      ]
    },
    {
      "cell_type": "code",
      "execution_count": null,
      "metadata": {
        "colab": {
          "base_uri": "https://localhost:8080/",
          "height": 349
        },
        "id": "QIpsz4Gd5M-e",
        "outputId": "72678fab-7fe7-459c-9402-3e56a02e934c"
      },
      "outputs": [],
      "source": [
        "# Create a normal distribution curve for the 'Internships'.\n",
        "plt.style.use('ggplot')\n",
        "plt.figure(figsize=(15, 5))\n",
        "plt.title('normal distribution curve for the Internships')\n",
        "sns.distplot(df['Internships'],bins='sturges',hist=False)\n",
        "plt.grid()\n",
        "plt.show()\n",
        "# Create a probablity density function for plotting the normal distribution\n",
        "\n",
        "\n",
        "# Plot the normal distribution curve using plt.scatter() \n"
      ]
    },
    {
      "cell_type": "markdown",
      "metadata": {
        "id": "AnYUk03JZHNW"
      },
      "source": [
        "---"
      ]
    },
    {
      "cell_type": "markdown",
      "metadata": {
        "id": "hV_89Nj7134T"
      },
      "source": [
        "#### 3. Feature encoding \n",
        "\n",
        "Perform feature encoding using `map()` function and one-hot encoding."
      ]
    },
    {
      "cell_type": "markdown",
      "metadata": {
        "id": "zOCUEcX8uRqy"
      },
      "source": [
        "---"
      ]
    },
    {
      "cell_type": "markdown",
      "metadata": {
        "id": "DPA5gDelbIhQ"
      },
      "source": [
        "#### 4. Model Building and Evaluation \n",
        "\n",
        "Build a multiple linear regression model using the `statsmodels.api` module."
      ]
    },
    {
      "cell_type": "code",
      "execution_count": null,
      "metadata": {
        "id": "wQzZoKiQMsLe"
      },
      "outputs": [],
      "source": [
        "# Split the 'df' Dataframe into the train and test sets.\n",
        "from sklearn.model_selection import train_test_split\n",
        "train_df, test_df = train_test_split(df, test_size = 0.3, random_state = 42)\n",
        "features = list(df.columns)\n",
        "features.remove('Age')\n",
        "\n"
      ]
    },
    {
      "cell_type": "code",
      "execution_count": null,
      "metadata": {
        "id": "F37BjQrfvMFJ"
      },
      "outputs": [],
      "source": [
        "#separate data-frames for the feature and target variables for both the train and test sets.\n",
        "X_train = train_df[features]\n",
        "y_train = train_df['Age']\n",
        "X_test = test_df[features]\n",
        "y_test = test_df['Age']\n",
        "\n",
        "X_train[X_train.columns[:16]] = X_train[X_train.columns[:16]]\n",
        "X_test[X_test.columns[:16]] = X_test[X_test.columns[:16]]"
      ]
    },
    {
      "cell_type": "code",
      "execution_count": null,
      "metadata": {
        "id": "NmVNQIXoM_e7"
      },
      "outputs": [],
      "source": [
        "# Build a linear regression model using all the features to predict prices.\n",
        "import statsmodels.api as sm\n",
        "\n",
        "X_train_sm = sm.add_constant(X_train)\n",
        "lin_reg = sm.OLS(y_train, X_train_sm).fit()\n"
      ]
    },
    {
      "cell_type": "code",
      "execution_count": null,
      "metadata": {
        "colab": {
          "base_uri": "https://localhost:8080/"
        },
        "id": "bTRC2EzPNES8",
        "outputId": "953c8069-5aa3-470a-9056-1cff0221d802"
      },
      "outputs": [],
      "source": [
        "# calculate N and p-values.\n",
        "num_rows = X_train.shape[0] # Number of rows or instances \n",
        "num_predictors = X_train.shape[1] # Number of columns or feature (or independent) variables\n",
        "print(\"Number of rows (N):\", num_rows)\n",
        "print(\"Number of predictors (p):\", num_predictors)\n"
      ]
    },
    {
      "cell_type": "code",
      "execution_count": null,
      "metadata": {
        "id": "Ea4fgShn-e6f"
      },
      "outputs": [],
      "source": [
        "def mean_sq_model(X, y_actual):\n",
        "    y_pred = lin_reg.predict(X)\n",
        "    sq_model = (y_pred - y_actual.mean()) ** 2\n",
        "    msm = sq_model.sum() / (num_predictors - 1)\n",
        "    return msm\n",
        "\n",
        "def mean_sq_error(X, y_actual):\n",
        "    y_pred = lin_reg.predict(X)\n",
        "    sq_error = (y_actual - y_pred) ** 2\n",
        "    mse = sq_error.sum() / (num_rows - num_predictors)\n",
        "    return mse"
      ]
    },
    {
      "cell_type": "code",
      "execution_count": null,
      "metadata": {
        "colab": {
          "base_uri": "https://localhost:8080/"
        },
        "id": "Y5oVTSm2NI0N",
        "outputId": "934ab1d6-2353-4edf-c1b9-bc8ead3da4aa"
      },
      "outputs": [],
      "source": [
        "# Calculate the p-value\n",
        "f_statistic=mean_sq_model(X_train_sm,y_train)/mean_sq_error(X_train_sm,y_train)\n",
        "f_statistic\n"
      ]
    },
    {
      "cell_type": "code",
      "execution_count": null,
      "metadata": {
        "colab": {
          "base_uri": "https://localhost:8080/"
        },
        "id": "qEdFcKWA0LWf",
        "outputId": "ae21e218-1adf-4948-b711-1c355865d229"
      },
      "outputs": [],
      "source": [
        "from scipy.stats import norm\n",
        "pvalue = (2 * (1 - norm.cdf(abs(f_statistic))))\n",
        "pvalue"
      ]
    },
    {
      "cell_type": "markdown",
      "metadata": {
        "id": "uN86XNjohcgq"
      },
      "source": []
    },
    {
      "cell_type": "code",
      "execution_count": null,
      "metadata": {
        "colab": {
          "base_uri": "https://localhost:8080/"
        },
        "id": "25-of2kKhdZ-",
        "outputId": "668a7531-8054-4cc5-9a8c-df3161134743"
      },
      "outputs": [],
      "source": [
        "#Find adjusted r squared\n",
        "num_rows = X_train.shape[0] # Number of rows or instances \n",
        "num_predictors = X_train.shape[1] # Number of columns or feature (or independent) variables\n",
        "r2_score = lin_reg.rsquared # R-squared (or coefficient of determination) value \n",
        "adj_r2_score = 1 - ((1 - r2_score) * (num_rows - 1))/(num_rows - num_predictors - 1) # Adjusted R-squared calculation\n",
        "adj_r2_score"
      ]
    },
    {
      "cell_type": "markdown",
      "metadata": {
        "id": "0g5bWR7KevKp"
      },
      "source": [
        "**Q:** What is the  adjusted r-squared value?\n",
        "\n",
        "**A:** -0.0009\n"
      ]
    },
    {
      "cell_type": "markdown",
      "metadata": {
        "id": "MGiJbicSY0cB"
      },
      "source": [
        "---"
      ]
    },
    {
      "cell_type": "markdown",
      "metadata": {
        "id": "jdISoNS3dXv7"
      },
      "source": [
        "#### 5. Model Evaluation\n",
        "\n",
        "Build a multiple linear regression model  using `sklearn` module. Also, evaluate the model by calculating $R^2$, MSE, RMSE, and MAE values."
      ]
    },
    {
      "cell_type": "code",
      "execution_count": null,
      "metadata": {
        "colab": {
          "base_uri": "https://localhost:8080/"
        },
        "id": "UasyrqoReltr",
        "outputId": "dada333e-c5e8-44fd-8ecc-21ff6154463e"
      },
      "outputs": [],
      "source": [
        "# Build multiple linear regression model using all the features\n",
        "from sklearn.model_selection import train_test_split\n",
        "from sklearn.linear_model import LinearRegression\n",
        "X = df[features]\n",
        "y = df['Age']\n",
        "X_train, X_test, y_train, y_test = train_test_split(X, y, test_size = 0.33, random_state = 42)\n",
        "\n",
        "\n",
        "y_train_reshaped = y_train.values.reshape(-1, 1)\n",
        "y_test_reshaped = y_test.values.reshape(-1, 1)\n",
        "\n",
        "\n",
        "sklearn_lin_reg = LinearRegression()\n",
        "sklearn_lin_reg.fit(X_train, y_train_reshaped)\n",
        "\n",
        "\n",
        "\n",
        "print(\"\\nConstant\".ljust(15, \" \"), f\"{sklearn_lin_reg.intercept_[0]:.6f}\") \n",
        "\n",
        "\n",
        "for item in list(zip(X.columns.values, sklearn_lin_reg.coef_[0])):\n",
        "  print(f\"{item[0]}\".ljust(15, \" \"), f\"{item[1]:.6f}\") \n",
        "\n"
      ]
    },
    {
      "cell_type": "code",
      "execution_count": null,
      "metadata": {
        "colab": {
          "base_uri": "https://localhost:8080/"
        },
        "id": "O_Jn8jYZe0AJ",
        "outputId": "a13d653d-7119-4cf3-d0f9-7d40a2eb6a1c"
      },
      "outputs": [],
      "source": [
        "# Evaluate the linear regression model using the 'r2_score', 'mean_squared_error' & 'mean_absolute_error' functions of the 'sklearn' module.\n",
        "from sklearn.metrics import r2_score, mean_squared_error , mean_absolute_error,mean_squared_log_error\n",
        "y_train_predict = sklearn_lin_reg.predict(X_train)\n",
        "y_test_predict = sklearn_lin_reg.predict(X_test)\n",
        "\n",
        "output=r2_score(y_train,y_train_predict)\n",
        "mean_squared_error=mean_squared_error(y_train,y_train_predict)\n",
        "mean_absolute_error=mean_absolute_error(y_train,y_train_predict)\n",
        "print(r2_score,mean_squared_error,mean_absolute_error)"
      ]
    },
    {
      "cell_type": "markdown",
      "metadata": {
        "id": "JQjDiF7TY3NN"
      },
      "source": [
        "---"
      ]
    },
    {
      "cell_type": "markdown",
      "metadata": {
        "id": "LYr8UQBp6AlS"
      },
      "source": [
        "#### 6. Recursive Feature Elimination\n",
        "\n",
        "Find out the best features out of all features using RFE and evaluate the model again."
      ]
    },
    {
      "cell_type": "code",
      "execution_count": null,
      "metadata": {
        "colab": {
          "base_uri": "https://localhost:8080/"
        },
        "id": "7I4LSmb0oew9",
        "outputId": "82b794fd-f927-43f3-9fa7-1fd5d5dcc542"
      },
      "outputs": [],
      "source": [
        "#  a Python dictionary storing the moderately to highly correlated features with techSkillsLevel and the corresponding correlation values.\n",
        "#  correlation threshold to be 0.2\n",
        "major_features = {}\n",
        "for f in features:\n",
        "  corr_coef = np.corrcoef(df['techSkillsLevel'], df[f])[0, 1]\n",
        "  if (corr_coef >= 0.2) or (corr_coef <= -0.2):\n",
        "    major_features[f] = corr_coef\n",
        "\n",
        "print(\"Number of features moderately to highly correlated with techSkillsLevel =\", len(major_features), \"\\n\")\n",
        "major_features"
      ]
    },
    {
      "cell_type": "code",
      "execution_count": null,
      "metadata": {
        "colab": {
          "base_uri": "https://localhost:8080/"
        },
        "id": "D8SxpFJh7lFq",
        "outputId": "7986f2ba-82e3-4d08-f967-528cfcf469c9"
      },
      "outputs": [],
      "source": [
        "#Build multiple linear regression model using all the features selected after RFE\n",
        "#Split the DataFrame into the train and test sets such that test set has 33% of the values.\n",
        "#Split the DataFrame into the train and test sets such that test set has 33% of the values.\n",
        "\n",
        "X = df[features]\n",
        "y = df['Age']\n",
        "X_train, X_test, y_train, y_test = train_test_split(X, y, test_size = 0.33, random_state = 42)\n",
        "\n",
        "\n",
        "y_train_reshaped = y_train.values.reshape(-1, 1)\n",
        "y_test_reshaped = y_test.values.reshape(-1, 1)\n",
        "\n",
        "# Build linear regression model using the 'sklearn.linear_model' module.\n",
        "\n",
        "sklearn_lin_reg = LinearRegression()\n",
        "sklearn_lin_reg.fit(X_train, y_train_reshaped)\n",
        "\n",
        "\n",
        "\n",
        "print(\"\\nConstant\".ljust(15, \" \"), f\"{sklearn_lin_reg.intercept_[0]:.6f}\") \n",
        "\n",
        "# Print the names of the features along with the values of their corresponding coefficients.\n",
        "\n",
        "for item in list(zip(X.columns.values, sklearn_lin_reg.coef_[0])):\n",
        "  print(f\"{item[0]}\".ljust(15, \" \"), f\"{item[1]:.6f}\") \n",
        "\n"
      ]
    },
    {
      "cell_type": "code",
      "execution_count": null,
      "metadata": {
        "colab": {
          "base_uri": "https://localhost:8080/"
        },
        "id": "2TL6w_uf7lDH",
        "outputId": "e9314d78-c115-4c77-c32b-50de06563410"
      },
      "outputs": [],
      "source": [
        "# Evaluate the linear regression model using the 'r2_score', 'mean_squared_error' & 'mean_absolute_error' functions of the 'sklearn' module.\n",
        "from sklearn.metrics import r2_score, mean_squared_error, mean_absolute_error\n",
        "y_train_pred = sklearn_lin_reg.predict(X_train)\n",
        "y_test_pred = sklearn_lin_reg.predict(X_test)\n",
        "\n",
        "print(f\"Train Set\\n{'-' * 50}\")\n",
        "print(f\"R-squared: {r2_score(y_train_reshaped, y_train_pred):.3f}\")\n",
        "print(f\"Mean Squared Error: {mean_squared_error(y_train_reshaped, y_train_pred):.3f}\")\n",
        "print(f\"Root Mean Squared Error: {np.sqrt(mean_squared_error(y_train_reshaped, y_train_pred)):.3f}\")\n",
        "print(f\"Mean Absolute Error: {mean_absolute_error(y_train_reshaped, y_train_pred):.3f}\")\n",
        "      "
      ]
    },
    {
      "cell_type": "markdown",
      "metadata": {
        "id": "7ctl1HKaY6Uy"
      },
      "source": [
        "---"
      ]
    },
    {
      "cell_type": "markdown",
      "metadata": {
        "id": "O8Y3O5R88IrL"
      },
      "source": [
        "#### 7. Residual (Error) Analysis\n",
        "\n",
        "Perform residual analysis to check if the residuals (errors) are normally distributed or not. For this, plot the  histogram of the residuals."
      ]
    },
    {
      "cell_type": "code",
      "execution_count": null,
      "metadata": {
        "colab": {
          "base_uri": "https://localhost:8080/",
          "height": 371
        },
        "id": "mYF-WdWn8QmU",
        "outputId": "3b9dc07c-af45-4664-ec47-6ac99f5d5d11"
      },
      "outputs": [],
      "source": [
        "# a histogram for the errors obtained in the predicted values for the train set.\n",
        "train_error=y_train_pred\n",
        "plt.figure(figsize=(15,6))\n",
        "sns.distplot(train_error,bins='sturges')\n",
        "plt.axvline(x=np.mean(train_error),color='purple')\n",
        "plt.show()\n"
      ]
    },
    {
      "cell_type": "code",
      "execution_count": null,
      "metadata": {
        "colab": {
          "base_uri": "https://localhost:8080/",
          "height": 371
        },
        "id": "RJv_gr1N8T5U",
        "outputId": "8ae2630a-13f1-4064-80bf-8f79a060d56a"
      },
      "outputs": [],
      "source": [
        "#  a histogram for the errors obtained in the predicted values for the test set.\n",
        "test_error=y_test_pred\n",
        "plt.figure(figsize=(15,6))\n",
        "sns.distplot(train_error,bins='sturges')\n",
        "plt.axvline(x=np.mean(train_error),color='purple')\n",
        "plt.show()\n"
      ]
    },
    {
      "cell_type": "markdown",
      "metadata": {
        "id": "_-uMjpUMY932"
      },
      "source": [
        "---"
      ]
    },
    {
      "cell_type": "markdown",
      "metadata": {
        "id": "LMZN8NeX8rde"
      },
      "source": [
        " 8.  Homoscedasticity \n",
        "\n",
        "We can Check for Homoscedasticity (constant variance) by creating a scatter plot between the errors and the target variable. Determine whether there is some kind of relationship between the error and the target variable."
      ]
    },
    {
      "cell_type": "code",
      "execution_count": null,
      "metadata": {
        "colab": {
          "base_uri": "https://localhost:8080/",
          "height": 425
        },
        "id": "uptEDE578wjm",
        "outputId": "8020e06a-dd45-41af-8c15-0dd6cd88a9b2"
      },
      "outputs": [],
      "source": [
        "#  a scatter plot between the errors and the dependent variable for the train set.\n",
        "plt.figure(figsize=(15,7))\n",
        "plt.scatter(y_train,train_error)\n",
        "plt.axhline(y=np.mean(train_error),color='red')\n",
        "plt.show()\n",
        "\n"
      ]
    },
    {
      "cell_type": "markdown",
      "metadata": {
        "id": "ydTo7_b5JMpu"
      },
      "source": [
        "---"
      ]
    },
    {
      "cell_type": "markdown",
      "metadata": {
        "id": "WS4vTi_EAsC5"
      },
      "source": [
        "---"
      ]
    }
  ],
  "metadata": {
    "colab": {
      "collapsed_sections": [],
      "provenance": []
    },
    "kernelspec": {
      "display_name": "Python 3.10.6 64-bit",
      "language": "python",
      "name": "python3"
    },
    "language_info": {
      "codemirror_mode": {
        "name": "ipython",
        "version": 3
      },
      "file_extension": ".py",
      "mimetype": "text/x-python",
      "name": "python",
      "nbconvert_exporter": "python",
      "pygments_lexer": "ipython3",
      "version": "3.10.6"
    },
    "vscode": {
      "interpreter": {
        "hash": "52634da84371cba311ea128a5ea7cdc41ff074b781779e754b270ff9f8153cee"
      }
    }
  },
  "nbformat": 4,
  "nbformat_minor": 0
}
